{
 "cells": [
  {
   "cell_type": "code",
   "execution_count": null,
   "id": "cebf07e3",
   "metadata": {},
   "outputs": [],
   "source": [
    "num=int(input('nhập vào số tiền $ đã chi: '))\n",
    "if num>=150:\n",
    "    num1=num-50\n",
    "    print(f'tổng số tiền phải trả là: {num1} $')\n",
    "elif num>=100:\n",
    "    num2=num-25\n",
    "    print(f'tổng số tiền phải trả là: {num2} $')\n",
    "elif num>=75:\n",
    "    num3=num-15\n",
    "    print (f'tổng số tiền phải trả là: {num3} $')\n",
    "else: \n",
    "    print(f'tổng số tiền phải trả là: {num} $')"
   ]
  }
 ],
 "metadata": {
  "kernelspec": {
   "display_name": "Python 3 (ipykernel)",
   "language": "python",
   "name": "python3"
  },
  "language_info": {
   "codemirror_mode": {
    "name": "ipython",
    "version": 3
   },
   "file_extension": ".py",
   "mimetype": "text/x-python",
   "name": "python",
   "nbconvert_exporter": "python",
   "pygments_lexer": "ipython3",
   "version": "3.9.12"
  }
 },
 "nbformat": 4,
 "nbformat_minor": 5
}
